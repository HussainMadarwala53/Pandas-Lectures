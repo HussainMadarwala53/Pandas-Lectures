{
  "nbformat": 4,
  "nbformat_minor": 0,
  "metadata": {
    "colab": {
      "name": "Pandas Lecture 2.ipynb",
      "provenance": [],
      "authorship_tag": "ABX9TyPdU1cT0vEszGr+HxedBbMH",
      "include_colab_link": true
    },
    "kernelspec": {
      "name": "python3",
      "display_name": "Python 3"
    },
    "language_info": {
      "name": "python"
    }
  },
  "cells": [
    {
      "cell_type": "markdown",
      "metadata": {
        "id": "view-in-github",
        "colab_type": "text"
      },
      "source": [
        "<a href=\"https://colab.research.google.com/github/HussainMadarwala53/Pandas-Lectures/blob/main/Pandas_Lecture_2.ipynb\" target=\"_parent\"><img src=\"https://colab.research.google.com/assets/colab-badge.svg\" alt=\"Open In Colab\"/></a>"
      ]
    },
    {
      "cell_type": "code",
      "metadata": {
        "colab": {
          "base_uri": "https://localhost:8080/",
          "height": 408
        },
        "id": "_U9OcXSga7YD",
        "outputId": "a0f8c0ba-39e2-4815-fee7-63c7e8df770d"
      },
      "source": [
        "import pandas as pd\n",
        "# pd.options.display.max_rows=10\n",
        "df = pd.read_csv(\"ex6.csv\")\n",
        "df"
      ],
      "execution_count": 10,
      "outputs": [
        {
          "output_type": "execute_result",
          "data": {
            "text/html": [
              "<div>\n",
              "<style scoped>\n",
              "    .dataframe tbody tr th:only-of-type {\n",
              "        vertical-align: middle;\n",
              "    }\n",
              "\n",
              "    .dataframe tbody tr th {\n",
              "        vertical-align: top;\n",
              "    }\n",
              "\n",
              "    .dataframe thead th {\n",
              "        text-align: right;\n",
              "    }\n",
              "</style>\n",
              "<table border=\"1\" class=\"dataframe\">\n",
              "  <thead>\n",
              "    <tr style=\"text-align: right;\">\n",
              "      <th></th>\n",
              "      <th>Unnamed: 0</th>\n",
              "      <th>one</th>\n",
              "      <th>two</th>\n",
              "      <th>three</th>\n",
              "      <th>four</th>\n",
              "      <th>key</th>\n",
              "    </tr>\n",
              "  </thead>\n",
              "  <tbody>\n",
              "    <tr>\n",
              "      <th>0</th>\n",
              "      <td>0</td>\n",
              "      <td>0.467976</td>\n",
              "      <td>-0.038649</td>\n",
              "      <td>-0.295344</td>\n",
              "      <td>-1.824726</td>\n",
              "      <td>L</td>\n",
              "    </tr>\n",
              "    <tr>\n",
              "      <th>1</th>\n",
              "      <td>1</td>\n",
              "      <td>-0.358893</td>\n",
              "      <td>1.404453</td>\n",
              "      <td>0.704965</td>\n",
              "      <td>-0.200638</td>\n",
              "      <td>B</td>\n",
              "    </tr>\n",
              "    <tr>\n",
              "      <th>2</th>\n",
              "      <td>2</td>\n",
              "      <td>-0.501840</td>\n",
              "      <td>0.659254</td>\n",
              "      <td>-0.421691</td>\n",
              "      <td>-0.057688</td>\n",
              "      <td>G</td>\n",
              "    </tr>\n",
              "    <tr>\n",
              "      <th>3</th>\n",
              "      <td>3</td>\n",
              "      <td>0.204886</td>\n",
              "      <td>1.074134</td>\n",
              "      <td>1.388361</td>\n",
              "      <td>-0.982404</td>\n",
              "      <td>R</td>\n",
              "    </tr>\n",
              "    <tr>\n",
              "      <th>4</th>\n",
              "      <td>4</td>\n",
              "      <td>0.354628</td>\n",
              "      <td>-0.133116</td>\n",
              "      <td>0.283763</td>\n",
              "      <td>-0.837063</td>\n",
              "      <td>Q</td>\n",
              "    </tr>\n",
              "    <tr>\n",
              "      <th>...</th>\n",
              "      <td>...</td>\n",
              "      <td>...</td>\n",
              "      <td>...</td>\n",
              "      <td>...</td>\n",
              "      <td>...</td>\n",
              "      <td>...</td>\n",
              "    </tr>\n",
              "    <tr>\n",
              "      <th>15</th>\n",
              "      <td>15</td>\n",
              "      <td>-1.310608</td>\n",
              "      <td>0.401719</td>\n",
              "      <td>-1.000987</td>\n",
              "      <td>1.156708</td>\n",
              "      <td>E</td>\n",
              "    </tr>\n",
              "    <tr>\n",
              "      <th>16</th>\n",
              "      <td>16</td>\n",
              "      <td>-0.088496</td>\n",
              "      <td>0.634712</td>\n",
              "      <td>0.153324</td>\n",
              "      <td>0.415335</td>\n",
              "      <td>B</td>\n",
              "    </tr>\n",
              "    <tr>\n",
              "      <th>17</th>\n",
              "      <td>17</td>\n",
              "      <td>-0.018663</td>\n",
              "      <td>-0.247487</td>\n",
              "      <td>-1.446522</td>\n",
              "      <td>0.750938</td>\n",
              "      <td>A</td>\n",
              "    </tr>\n",
              "    <tr>\n",
              "      <th>18</th>\n",
              "      <td>18</td>\n",
              "      <td>-0.070127</td>\n",
              "      <td>-1.579097</td>\n",
              "      <td>0.120892</td>\n",
              "      <td>0.671432</td>\n",
              "      <td>F</td>\n",
              "    </tr>\n",
              "    <tr>\n",
              "      <th>19</th>\n",
              "      <td>19</td>\n",
              "      <td>-0.194678</td>\n",
              "      <td>-0.492039</td>\n",
              "      <td>2.359605</td>\n",
              "      <td>0.319810</td>\n",
              "      <td>H</td>\n",
              "    </tr>\n",
              "  </tbody>\n",
              "</table>\n",
              "<p>20 rows × 6 columns</p>\n",
              "</div>"
            ],
            "text/plain": [
              "    Unnamed: 0       one       two     three      four key\n",
              "0            0  0.467976 -0.038649 -0.295344 -1.824726   L\n",
              "1            1 -0.358893  1.404453  0.704965 -0.200638   B\n",
              "2            2 -0.501840  0.659254 -0.421691 -0.057688   G\n",
              "3            3  0.204886  1.074134  1.388361 -0.982404   R\n",
              "4            4  0.354628 -0.133116  0.283763 -0.837063   Q\n",
              "..         ...       ...       ...       ...       ...  ..\n",
              "15          15 -1.310608  0.401719 -1.000987  1.156708   E\n",
              "16          16 -0.088496  0.634712  0.153324  0.415335   B\n",
              "17          17 -0.018663 -0.247487 -1.446522  0.750938   A\n",
              "18          18 -0.070127 -1.579097  0.120892  0.671432   F\n",
              "19          19 -0.194678 -0.492039  2.359605  0.319810   H\n",
              "\n",
              "[20 rows x 6 columns]"
            ]
          },
          "metadata": {
            "tags": []
          },
          "execution_count": 10
        }
      ]
    },
    {
      "cell_type": "code",
      "metadata": {
        "colab": {
          "base_uri": "https://localhost:8080/",
          "height": 200
        },
        "id": "TRkGBayGdUQy",
        "outputId": "c65f9f25-f77c-48b1-e3eb-877772279df1"
      },
      "source": [
        "# df = pd.read_csv(\"ex6.csv\",nrows=5)\n",
        "# df"
      ],
      "execution_count": 7,
      "outputs": [
        {
          "output_type": "execute_result",
          "data": {
            "text/html": [
              "<div>\n",
              "<style scoped>\n",
              "    .dataframe tbody tr th:only-of-type {\n",
              "        vertical-align: middle;\n",
              "    }\n",
              "\n",
              "    .dataframe tbody tr th {\n",
              "        vertical-align: top;\n",
              "    }\n",
              "\n",
              "    .dataframe thead th {\n",
              "        text-align: right;\n",
              "    }\n",
              "</style>\n",
              "<table border=\"1\" class=\"dataframe\">\n",
              "  <thead>\n",
              "    <tr style=\"text-align: right;\">\n",
              "      <th></th>\n",
              "      <th>Unnamed: 0</th>\n",
              "      <th>one</th>\n",
              "      <th>two</th>\n",
              "      <th>three</th>\n",
              "      <th>four</th>\n",
              "      <th>key</th>\n",
              "    </tr>\n",
              "  </thead>\n",
              "  <tbody>\n",
              "    <tr>\n",
              "      <th>0</th>\n",
              "      <td>0</td>\n",
              "      <td>0.467976</td>\n",
              "      <td>-0.038649</td>\n",
              "      <td>-0.295344</td>\n",
              "      <td>-1.824726</td>\n",
              "      <td>L</td>\n",
              "    </tr>\n",
              "    <tr>\n",
              "      <th>1</th>\n",
              "      <td>1</td>\n",
              "      <td>-0.358893</td>\n",
              "      <td>1.404453</td>\n",
              "      <td>0.704965</td>\n",
              "      <td>-0.200638</td>\n",
              "      <td>B</td>\n",
              "    </tr>\n",
              "    <tr>\n",
              "      <th>2</th>\n",
              "      <td>2</td>\n",
              "      <td>-0.501840</td>\n",
              "      <td>0.659254</td>\n",
              "      <td>-0.421691</td>\n",
              "      <td>-0.057688</td>\n",
              "      <td>G</td>\n",
              "    </tr>\n",
              "    <tr>\n",
              "      <th>3</th>\n",
              "      <td>3</td>\n",
              "      <td>0.204886</td>\n",
              "      <td>1.074134</td>\n",
              "      <td>1.388361</td>\n",
              "      <td>-0.982404</td>\n",
              "      <td>R</td>\n",
              "    </tr>\n",
              "    <tr>\n",
              "      <th>4</th>\n",
              "      <td>4</td>\n",
              "      <td>0.354628</td>\n",
              "      <td>-0.133116</td>\n",
              "      <td>0.283763</td>\n",
              "      <td>-0.837063</td>\n",
              "      <td>Q</td>\n",
              "    </tr>\n",
              "  </tbody>\n",
              "</table>\n",
              "</div>"
            ],
            "text/plain": [
              "   Unnamed: 0       one       two     three      four key\n",
              "0           0  0.467976 -0.038649 -0.295344 -1.824726   L\n",
              "1           1 -0.358893  1.404453  0.704965 -0.200638   B\n",
              "2           2 -0.501840  0.659254 -0.421691 -0.057688   G\n",
              "3           3  0.204886  1.074134  1.388361 -0.982404   R\n",
              "4           4  0.354628 -0.133116  0.283763 -0.837063   Q"
            ]
          },
          "metadata": {
            "tags": []
          },
          "execution_count": 7
        }
      ]
    },
    {
      "cell_type": "code",
      "metadata": {
        "colab": {
          "base_uri": "https://localhost:8080/",
          "height": 351
        },
        "id": "ffNMqz4TdeA4",
        "outputId": "e5d82887-762f-43a2-b048-546712aa84b9"
      },
      "source": [
        "df.head(10)"
      ],
      "execution_count": 11,
      "outputs": [
        {
          "output_type": "execute_result",
          "data": {
            "text/html": [
              "<div>\n",
              "<style scoped>\n",
              "    .dataframe tbody tr th:only-of-type {\n",
              "        vertical-align: middle;\n",
              "    }\n",
              "\n",
              "    .dataframe tbody tr th {\n",
              "        vertical-align: top;\n",
              "    }\n",
              "\n",
              "    .dataframe thead th {\n",
              "        text-align: right;\n",
              "    }\n",
              "</style>\n",
              "<table border=\"1\" class=\"dataframe\">\n",
              "  <thead>\n",
              "    <tr style=\"text-align: right;\">\n",
              "      <th></th>\n",
              "      <th>Unnamed: 0</th>\n",
              "      <th>one</th>\n",
              "      <th>two</th>\n",
              "      <th>three</th>\n",
              "      <th>four</th>\n",
              "      <th>key</th>\n",
              "    </tr>\n",
              "  </thead>\n",
              "  <tbody>\n",
              "    <tr>\n",
              "      <th>0</th>\n",
              "      <td>0</td>\n",
              "      <td>0.467976</td>\n",
              "      <td>-0.038649</td>\n",
              "      <td>-0.295344</td>\n",
              "      <td>-1.824726</td>\n",
              "      <td>L</td>\n",
              "    </tr>\n",
              "    <tr>\n",
              "      <th>1</th>\n",
              "      <td>1</td>\n",
              "      <td>-0.358893</td>\n",
              "      <td>1.404453</td>\n",
              "      <td>0.704965</td>\n",
              "      <td>-0.200638</td>\n",
              "      <td>B</td>\n",
              "    </tr>\n",
              "    <tr>\n",
              "      <th>2</th>\n",
              "      <td>2</td>\n",
              "      <td>-0.501840</td>\n",
              "      <td>0.659254</td>\n",
              "      <td>-0.421691</td>\n",
              "      <td>-0.057688</td>\n",
              "      <td>G</td>\n",
              "    </tr>\n",
              "    <tr>\n",
              "      <th>3</th>\n",
              "      <td>3</td>\n",
              "      <td>0.204886</td>\n",
              "      <td>1.074134</td>\n",
              "      <td>1.388361</td>\n",
              "      <td>-0.982404</td>\n",
              "      <td>R</td>\n",
              "    </tr>\n",
              "    <tr>\n",
              "      <th>4</th>\n",
              "      <td>4</td>\n",
              "      <td>0.354628</td>\n",
              "      <td>-0.133116</td>\n",
              "      <td>0.283763</td>\n",
              "      <td>-0.837063</td>\n",
              "      <td>Q</td>\n",
              "    </tr>\n",
              "    <tr>\n",
              "      <th>5</th>\n",
              "      <td>5</td>\n",
              "      <td>1.817480</td>\n",
              "      <td>0.742273</td>\n",
              "      <td>0.419395</td>\n",
              "      <td>-2.251035</td>\n",
              "      <td>Q</td>\n",
              "    </tr>\n",
              "    <tr>\n",
              "      <th>6</th>\n",
              "      <td>6</td>\n",
              "      <td>-0.776764</td>\n",
              "      <td>0.935518</td>\n",
              "      <td>-0.332872</td>\n",
              "      <td>-1.875641</td>\n",
              "      <td>U</td>\n",
              "    </tr>\n",
              "    <tr>\n",
              "      <th>7</th>\n",
              "      <td>7</td>\n",
              "      <td>-0.913135</td>\n",
              "      <td>1.530624</td>\n",
              "      <td>-0.572657</td>\n",
              "      <td>0.477252</td>\n",
              "      <td>K</td>\n",
              "    </tr>\n",
              "    <tr>\n",
              "      <th>8</th>\n",
              "      <td>8</td>\n",
              "      <td>0.358480</td>\n",
              "      <td>-0.497572</td>\n",
              "      <td>-0.367016</td>\n",
              "      <td>0.507702</td>\n",
              "      <td>S</td>\n",
              "    </tr>\n",
              "    <tr>\n",
              "      <th>9</th>\n",
              "      <td>9</td>\n",
              "      <td>-1.740877</td>\n",
              "      <td>-1.160417</td>\n",
              "      <td>-1.637830</td>\n",
              "      <td>2.172201</td>\n",
              "      <td>G</td>\n",
              "    </tr>\n",
              "  </tbody>\n",
              "</table>\n",
              "</div>"
            ],
            "text/plain": [
              "   Unnamed: 0       one       two     three      four key\n",
              "0           0  0.467976 -0.038649 -0.295344 -1.824726   L\n",
              "1           1 -0.358893  1.404453  0.704965 -0.200638   B\n",
              "2           2 -0.501840  0.659254 -0.421691 -0.057688   G\n",
              "3           3  0.204886  1.074134  1.388361 -0.982404   R\n",
              "4           4  0.354628 -0.133116  0.283763 -0.837063   Q\n",
              "5           5  1.817480  0.742273  0.419395 -2.251035   Q\n",
              "6           6 -0.776764  0.935518 -0.332872 -1.875641   U\n",
              "7           7 -0.913135  1.530624 -0.572657  0.477252   K\n",
              "8           8  0.358480 -0.497572 -0.367016  0.507702   S\n",
              "9           9 -1.740877 -1.160417 -1.637830  2.172201   G"
            ]
          },
          "metadata": {
            "tags": []
          },
          "execution_count": 11
        }
      ]
    },
    {
      "cell_type": "markdown",
      "metadata": {
        "id": "Zsksr5GvefsI"
      },
      "source": [
        "Difference between head(10) and nrows=10\n",
        " .head() will first load the entire dataset into memory then fetch 10 rows\n",
        " .nrows will directly fetch 10 rows and show in result set\n",
        "\n",
        " "
      ]
    },
    {
      "cell_type": "code",
      "metadata": {
        "id": "dXdlKUkle_-x"
      },
      "source": [
        "df.to_csv(\"output.csv\")  # export data to local env"
      ],
      "execution_count": 13,
      "outputs": []
    },
    {
      "cell_type": "code",
      "metadata": {
        "id": "st5rUkpoirKb"
      },
      "source": [
        "df.to_csv(\"output.csv\",sep =\"@\") "
      ],
      "execution_count": 14,
      "outputs": []
    },
    {
      "cell_type": "code",
      "metadata": {
        "id": "U3gJTzOdkgx9"
      },
      "source": [
        "df.to_csv(\"output.csv\",sep =\",\",index =False, header= False) "
      ],
      "execution_count": 18,
      "outputs": []
    },
    {
      "cell_type": "code",
      "metadata": {
        "colab": {
          "base_uri": "https://localhost:8080/",
          "height": 408
        },
        "id": "YUinezD5l1Ew",
        "outputId": "d6eba86f-d624-4bf3-ab79-e4000125f5f8"
      },
      "source": [
        "df"
      ],
      "execution_count": 19,
      "outputs": [
        {
          "output_type": "execute_result",
          "data": {
            "text/html": [
              "<div>\n",
              "<style scoped>\n",
              "    .dataframe tbody tr th:only-of-type {\n",
              "        vertical-align: middle;\n",
              "    }\n",
              "\n",
              "    .dataframe tbody tr th {\n",
              "        vertical-align: top;\n",
              "    }\n",
              "\n",
              "    .dataframe thead th {\n",
              "        text-align: right;\n",
              "    }\n",
              "</style>\n",
              "<table border=\"1\" class=\"dataframe\">\n",
              "  <thead>\n",
              "    <tr style=\"text-align: right;\">\n",
              "      <th></th>\n",
              "      <th>Unnamed: 0</th>\n",
              "      <th>one</th>\n",
              "      <th>two</th>\n",
              "      <th>three</th>\n",
              "      <th>four</th>\n",
              "      <th>key</th>\n",
              "    </tr>\n",
              "  </thead>\n",
              "  <tbody>\n",
              "    <tr>\n",
              "      <th>0</th>\n",
              "      <td>0</td>\n",
              "      <td>0.467976</td>\n",
              "      <td>-0.038649</td>\n",
              "      <td>-0.295344</td>\n",
              "      <td>-1.824726</td>\n",
              "      <td>L</td>\n",
              "    </tr>\n",
              "    <tr>\n",
              "      <th>1</th>\n",
              "      <td>1</td>\n",
              "      <td>-0.358893</td>\n",
              "      <td>1.404453</td>\n",
              "      <td>0.704965</td>\n",
              "      <td>-0.200638</td>\n",
              "      <td>B</td>\n",
              "    </tr>\n",
              "    <tr>\n",
              "      <th>2</th>\n",
              "      <td>2</td>\n",
              "      <td>-0.501840</td>\n",
              "      <td>0.659254</td>\n",
              "      <td>-0.421691</td>\n",
              "      <td>-0.057688</td>\n",
              "      <td>G</td>\n",
              "    </tr>\n",
              "    <tr>\n",
              "      <th>3</th>\n",
              "      <td>3</td>\n",
              "      <td>0.204886</td>\n",
              "      <td>1.074134</td>\n",
              "      <td>1.388361</td>\n",
              "      <td>-0.982404</td>\n",
              "      <td>R</td>\n",
              "    </tr>\n",
              "    <tr>\n",
              "      <th>4</th>\n",
              "      <td>4</td>\n",
              "      <td>0.354628</td>\n",
              "      <td>-0.133116</td>\n",
              "      <td>0.283763</td>\n",
              "      <td>-0.837063</td>\n",
              "      <td>Q</td>\n",
              "    </tr>\n",
              "    <tr>\n",
              "      <th>...</th>\n",
              "      <td>...</td>\n",
              "      <td>...</td>\n",
              "      <td>...</td>\n",
              "      <td>...</td>\n",
              "      <td>...</td>\n",
              "      <td>...</td>\n",
              "    </tr>\n",
              "    <tr>\n",
              "      <th>15</th>\n",
              "      <td>15</td>\n",
              "      <td>-1.310608</td>\n",
              "      <td>0.401719</td>\n",
              "      <td>-1.000987</td>\n",
              "      <td>1.156708</td>\n",
              "      <td>E</td>\n",
              "    </tr>\n",
              "    <tr>\n",
              "      <th>16</th>\n",
              "      <td>16</td>\n",
              "      <td>-0.088496</td>\n",
              "      <td>0.634712</td>\n",
              "      <td>0.153324</td>\n",
              "      <td>0.415335</td>\n",
              "      <td>B</td>\n",
              "    </tr>\n",
              "    <tr>\n",
              "      <th>17</th>\n",
              "      <td>17</td>\n",
              "      <td>-0.018663</td>\n",
              "      <td>-0.247487</td>\n",
              "      <td>-1.446522</td>\n",
              "      <td>0.750938</td>\n",
              "      <td>A</td>\n",
              "    </tr>\n",
              "    <tr>\n",
              "      <th>18</th>\n",
              "      <td>18</td>\n",
              "      <td>-0.070127</td>\n",
              "      <td>-1.579097</td>\n",
              "      <td>0.120892</td>\n",
              "      <td>0.671432</td>\n",
              "      <td>F</td>\n",
              "    </tr>\n",
              "    <tr>\n",
              "      <th>19</th>\n",
              "      <td>19</td>\n",
              "      <td>-0.194678</td>\n",
              "      <td>-0.492039</td>\n",
              "      <td>2.359605</td>\n",
              "      <td>0.319810</td>\n",
              "      <td>H</td>\n",
              "    </tr>\n",
              "  </tbody>\n",
              "</table>\n",
              "<p>20 rows × 6 columns</p>\n",
              "</div>"
            ],
            "text/plain": [
              "    Unnamed: 0       one       two     three      four key\n",
              "0            0  0.467976 -0.038649 -0.295344 -1.824726   L\n",
              "1            1 -0.358893  1.404453  0.704965 -0.200638   B\n",
              "2            2 -0.501840  0.659254 -0.421691 -0.057688   G\n",
              "3            3  0.204886  1.074134  1.388361 -0.982404   R\n",
              "4            4  0.354628 -0.133116  0.283763 -0.837063   Q\n",
              "..         ...       ...       ...       ...       ...  ..\n",
              "15          15 -1.310608  0.401719 -1.000987  1.156708   E\n",
              "16          16 -0.088496  0.634712  0.153324  0.415335   B\n",
              "17          17 -0.018663 -0.247487 -1.446522  0.750938   A\n",
              "18          18 -0.070127 -1.579097  0.120892  0.671432   F\n",
              "19          19 -0.194678 -0.492039  2.359605  0.319810   H\n",
              "\n",
              "[20 rows x 6 columns]"
            ]
          },
          "metadata": {
            "tags": []
          },
          "execution_count": 19
        }
      ]
    },
    {
      "cell_type": "code",
      "metadata": {
        "colab": {
          "base_uri": "https://localhost:8080/"
        },
        "id": "NxRkl0t-ltUa",
        "outputId": "cf3b30e0-5bb3-4942-f8ef-64de2e1a0f2a"
      },
      "source": [
        "# Dates Data Frame\n",
        "dates= pd.date_range(start=\"01/01/2021\",periods= 7,freq= \"M\")\n",
        "dates "
      ],
      "execution_count": 29,
      "outputs": [
        {
          "output_type": "execute_result",
          "data": {
            "text/plain": [
              "DatetimeIndex(['2021-01-31', '2021-02-28', '2021-03-31', '2021-04-30',\n",
              "               '2021-05-31', '2021-06-30', '2021-07-31'],\n",
              "              dtype='datetime64[ns]', freq='M')"
            ]
          },
          "metadata": {
            "tags": []
          },
          "execution_count": 29
        }
      ]
    },
    {
      "cell_type": "code",
      "metadata": {
        "colab": {
          "base_uri": "https://localhost:8080/"
        },
        "id": "YB88mDJIrKYy",
        "outputId": "75da97c3-7ef6-40ce-9869-241a9d8aa969"
      },
      "source": [
        "import numpy as np\n",
        "ty = np.arange(7)\n",
        "ty"
      ],
      "execution_count": 31,
      "outputs": [
        {
          "output_type": "execute_result",
          "data": {
            "text/plain": [
              "array([0, 1, 2, 3, 4, 5, 6])"
            ]
          },
          "metadata": {
            "tags": []
          },
          "execution_count": 31
        }
      ]
    },
    {
      "cell_type": "code",
      "metadata": {
        "colab": {
          "base_uri": "https://localhost:8080/"
        },
        "id": "yH8jB255tH8N",
        "outputId": "e7055d69-efed-428a-c565-a89120151214"
      },
      "source": [
        "ty = pd.Series(np.arange(7))\n",
        "ty"
      ],
      "execution_count": 32,
      "outputs": [
        {
          "output_type": "execute_result",
          "data": {
            "text/plain": [
              "0    0\n",
              "1    1\n",
              "2    2\n",
              "3    3\n",
              "4    4\n",
              "5    5\n",
              "6    6\n",
              "dtype: int64"
            ]
          },
          "metadata": {
            "tags": []
          },
          "execution_count": 32
        }
      ]
    },
    {
      "cell_type": "code",
      "metadata": {
        "colab": {
          "base_uri": "https://localhost:8080/"
        },
        "id": "ofK_P3-DtQ7F",
        "outputId": "d0439e24-430a-4269-fb49-48b8b7cc8024"
      },
      "source": [
        "ty = pd.Series(np.arange(7),index=dates)\n",
        "ty"
      ],
      "execution_count": 33,
      "outputs": [
        {
          "output_type": "execute_result",
          "data": {
            "text/plain": [
              "2021-01-31    0\n",
              "2021-02-28    1\n",
              "2021-03-31    2\n",
              "2021-04-30    3\n",
              "2021-05-31    4\n",
              "2021-06-30    5\n",
              "2021-07-31    6\n",
              "Freq: M, dtype: int64"
            ]
          },
          "metadata": {
            "tags": []
          },
          "execution_count": 33
        }
      ]
    },
    {
      "cell_type": "markdown",
      "metadata": {
        "id": "v_p3QRz0uF80"
      },
      "source": [
        "Working with Delimited formats, i.e without using pandas library."
      ]
    },
    {
      "cell_type": "code",
      "metadata": {
        "colab": {
          "base_uri": "https://localhost:8080/"
        },
        "id": "Gc2v2VH7uQ1C",
        "outputId": "969de550-b2fd-4572-c65c-c591a9139d3b"
      },
      "source": [
        "import csv\n",
        "f= open(\"ex3.csv\")\n",
        "readers = csv.reader(f)\n",
        "readers"
      ],
      "execution_count": 39,
      "outputs": [
        {
          "output_type": "execute_result",
          "data": {
            "text/plain": [
              "<_csv.reader at 0x7f241aabf0d0>"
            ]
          },
          "metadata": {
            "tags": []
          },
          "execution_count": 39
        }
      ]
    },
    {
      "cell_type": "code",
      "metadata": {
        "colab": {
          "base_uri": "https://localhost:8080/"
        },
        "id": "pG5WCFiovVUS",
        "outputId": "03099e0f-235e-4a59-e7c7-cd9b246f2b18"
      },
      "source": [
        "for i in readers:\n",
        "  print(i)"
      ],
      "execution_count": 40,
      "outputs": [
        {
          "output_type": "stream",
          "text": [
            "['            A         B         C']\n",
            "['aaa -0.264438 -1.026059 -0.619500']\n",
            "['bbb  0.927272  0.302904 -0.032399']\n",
            "['ccc -0.264273 -0.386314 -0.217601']\n",
            "['ddd -0.871858 -0.348382  1.100491']\n"
          ],
          "name": "stdout"
        }
      ]
    },
    {
      "cell_type": "code",
      "metadata": {
        "id": "XkBWGXjYwEQ8"
      },
      "source": [
        "import csv\n",
        "f= open(\"ex3.csv\")\n",
        "readers = csv.reader(f)\n",
        "# readers\n",
        "listofread = list(readers)"
      ],
      "execution_count": 47,
      "outputs": []
    },
    {
      "cell_type": "code",
      "metadata": {
        "colab": {
          "base_uri": "https://localhost:8080/"
        },
        "id": "nVTSYPRpwI64",
        "outputId": "f62c5c6e-eb72-4f29-bb72-d04025390eb6"
      },
      "source": [
        "listofread"
      ],
      "execution_count": 48,
      "outputs": [
        {
          "output_type": "execute_result",
          "data": {
            "text/plain": [
              "[['            A         B         C'],\n",
              " ['aaa -0.264438 -1.026059 -0.619500'],\n",
              " ['bbb  0.927272  0.302904 -0.032399'],\n",
              " ['ccc -0.264273 -0.386314 -0.217601'],\n",
              " ['ddd -0.871858 -0.348382  1.100491']]"
            ]
          },
          "metadata": {
            "tags": []
          },
          "execution_count": 48
        }
      ]
    },
    {
      "cell_type": "code",
      "metadata": {
        "id": "fx8xb_O-xP4t"
      },
      "source": [
        "header,values = listofread[0], listofread[1:]"
      ],
      "execution_count": 49,
      "outputs": []
    },
    {
      "cell_type": "code",
      "metadata": {
        "colab": {
          "base_uri": "https://localhost:8080/"
        },
        "id": "riozmVXlxWjm",
        "outputId": "035ec8c0-1ae1-4a2f-de82-d94b7b0fe08f"
      },
      "source": [
        "header"
      ],
      "execution_count": 50,
      "outputs": [
        {
          "output_type": "execute_result",
          "data": {
            "text/plain": [
              "['            A         B         C']"
            ]
          },
          "metadata": {
            "tags": []
          },
          "execution_count": 50
        }
      ]
    },
    {
      "cell_type": "code",
      "metadata": {
        "colab": {
          "base_uri": "https://localhost:8080/"
        },
        "id": "pWQxyn09xXQf",
        "outputId": "7acd3aed-c3cf-42e9-b112-9ba7f54559ce"
      },
      "source": [
        "values"
      ],
      "execution_count": 71,
      "outputs": [
        {
          "output_type": "execute_result",
          "data": {
            "text/plain": [
              "[['aaa -0.264438 -1.026059 -0.619500'],\n",
              " ['bbb  0.927272  0.302904 -0.032399'],\n",
              " ['ccc -0.264273 -0.386314 -0.217601'],\n",
              " ['ddd -0.871858 -0.348382  1.100491']]"
            ]
          },
          "metadata": {
            "tags": []
          },
          "execution_count": 71
        }
      ]
    },
    {
      "cell_type": "code",
      "metadata": {
        "colab": {
          "base_uri": "https://localhost:8080/"
        },
        "id": "QHg_EsrbxY8x",
        "outputId": "d3722d54-9343-467a-c3d4-86c590803219"
      },
      "source": [
        "zipperval = zip(values)\n",
        "list(zipperval)"
      ],
      "execution_count": 76,
      "outputs": [
        {
          "output_type": "execute_result",
          "data": {
            "text/plain": [
              "[(['aaa -0.264438 -1.026059 -0.619500'],),\n",
              " (['bbb  0.927272  0.302904 -0.032399'],),\n",
              " (['ccc -0.264273 -0.386314 -0.217601'],),\n",
              " (['ddd -0.871858 -0.348382  1.100491'],)]"
            ]
          },
          "metadata": {
            "tags": []
          },
          "execution_count": 76
        }
      ]
    },
    {
      "cell_type": "code",
      "metadata": {
        "colab": {
          "base_uri": "https://localhost:8080/"
        },
        "id": "UJbjm4LNyQPg",
        "outputId": "42fbf1e4-a609-4504-da2f-c18f4954fa8e"
      },
      "source": [
        "list(zip(*values))"
      ],
      "execution_count": 77,
      "outputs": [
        {
          "output_type": "execute_result",
          "data": {
            "text/plain": [
              "[('aaa -0.264438 -1.026059 -0.619500',\n",
              "  'bbb  0.927272  0.302904 -0.032399',\n",
              "  'ccc -0.264273 -0.386314 -0.217601',\n",
              "  'ddd -0.871858 -0.348382  1.100491')]"
            ]
          },
          "metadata": {
            "tags": []
          },
          "execution_count": 77
        }
      ]
    },
    {
      "cell_type": "code",
      "metadata": {
        "colab": {
          "base_uri": "https://localhost:8080/"
        },
        "id": "Y8TJSXttynPX",
        "outputId": "81482fa1-58ad-4255-9a75-7296fa6edefa"
      },
      "source": [
        "list(zip(header,zip(*values)))"
      ],
      "execution_count": 78,
      "outputs": [
        {
          "output_type": "execute_result",
          "data": {
            "text/plain": [
              "[('            A         B         C',\n",
              "  ('aaa -0.264438 -1.026059 -0.619500',\n",
              "   'bbb  0.927272  0.302904 -0.032399',\n",
              "   'ccc -0.264273 -0.386314 -0.217601',\n",
              "   'ddd -0.871858 -0.348382  1.100491'))]"
            ]
          },
          "metadata": {
            "tags": []
          },
          "execution_count": 78
        }
      ]
    },
    {
      "cell_type": "code",
      "metadata": {
        "colab": {
          "base_uri": "https://localhost:8080/"
        },
        "id": "xofhtSF40k3v",
        "outputId": "dcded5e6-f62e-4895-ecd7-93fd881e8058"
      },
      "source": [
        "l1 = [0,5,66,79,51]\n",
        "l2 = [10,15,6,7,1]\n",
        "zip(l1,l2)"
      ],
      "execution_count": 79,
      "outputs": [
        {
          "output_type": "execute_result",
          "data": {
            "text/plain": [
              "<zip at 0x7f2416b31d70>"
            ]
          },
          "metadata": {
            "tags": []
          },
          "execution_count": 79
        }
      ]
    },
    {
      "cell_type": "code",
      "metadata": {
        "colab": {
          "base_uri": "https://localhost:8080/"
        },
        "id": "6twQoa3j4QM2",
        "outputId": "a303d365-aeff-4c4c-f0e2-5469350c21f1"
      },
      "source": [
        "list(zip(l1,l2))"
      ],
      "execution_count": 80,
      "outputs": [
        {
          "output_type": "execute_result",
          "data": {
            "text/plain": [
              "[(0, 10), (5, 15), (66, 6), (79, 7), (51, 1)]"
            ]
          },
          "metadata": {
            "tags": []
          },
          "execution_count": 80
        }
      ]
    },
    {
      "cell_type": "code",
      "metadata": {
        "colab": {
          "base_uri": "https://localhost:8080/"
        },
        "id": "pMfRzj054XLJ",
        "outputId": "8ce3bbb7-1d91-4be5-d071-d5e27963690e"
      },
      "source": [
        "dictval = {i:j for i,j in zip(l1,l2)}\n",
        "dictval"
      ],
      "execution_count": 86,
      "outputs": [
        {
          "output_type": "execute_result",
          "data": {
            "text/plain": [
              "{0: 10, 5: 15, 51: 1, 66: 6, 79: 7}"
            ]
          },
          "metadata": {
            "tags": []
          },
          "execution_count": 86
        }
      ]
    },
    {
      "cell_type": "markdown",
      "metadata": {
        "id": "oftdB3HuODSL"
      },
      "source": [
        "JSON Data read"
      ]
    },
    {
      "cell_type": "code",
      "metadata": {
        "id": "hO5BM3zoOFIy"
      },
      "source": [
        "obj = '''\n",
        "{\"employees\":[  \n",
        "    {\"name\":\"Shyam\", \"email\":\"shyamjaiswal@gmail.com\"},  \n",
        "    {\"name\":\"Bob\", \"email\":\"bob32@gmail.com\"},  \n",
        "    {\"name\":\"Jai\", \"email\":\"jai87@gmail.com\"}  \n",
        "]}  \n",
        "'''"
      ],
      "execution_count": 5,
      "outputs": []
    },
    {
      "cell_type": "code",
      "metadata": {
        "colab": {
          "base_uri": "https://localhost:8080/"
        },
        "id": "ODDI2E9bOcWk",
        "outputId": "5621d3bf-8170-4a5c-f291-ddf8ec80ba4f"
      },
      "source": [
        "type(obj)"
      ],
      "execution_count": 6,
      "outputs": [
        {
          "output_type": "execute_result",
          "data": {
            "text/plain": [
              "str"
            ]
          },
          "metadata": {
            "tags": []
          },
          "execution_count": 6
        }
      ]
    },
    {
      "cell_type": "code",
      "metadata": {
        "colab": {
          "base_uri": "https://localhost:8080/"
        },
        "id": "wiBUOCvlOd3f",
        "outputId": "c5233909-9a7e-48e0-92f9-435362c3d58b"
      },
      "source": [
        "import json\n",
        "result = json.loads(obj)\n",
        "result"
      ],
      "execution_count": 7,
      "outputs": [
        {
          "output_type": "execute_result",
          "data": {
            "text/plain": [
              "{'employees': [{'email': 'shyamjaiswal@gmail.com', 'name': 'Shyam'},\n",
              "  {'email': 'bob32@gmail.com', 'name': 'Bob'},\n",
              "  {'email': 'jai87@gmail.com', 'name': 'Jai'}]}"
            ]
          },
          "metadata": {
            "tags": []
          },
          "execution_count": 7
        }
      ]
    },
    {
      "cell_type": "code",
      "metadata": {
        "colab": {
          "base_uri": "https://localhost:8080/"
        },
        "id": "QTEiLY3vOnz_",
        "outputId": "27f67ece-5850-4dfc-c9c4-90c178f70f5f"
      },
      "source": [
        "type(result)"
      ],
      "execution_count": 8,
      "outputs": [
        {
          "output_type": "execute_result",
          "data": {
            "text/plain": [
              "dict"
            ]
          },
          "metadata": {
            "tags": []
          },
          "execution_count": 8
        }
      ]
    },
    {
      "cell_type": "code",
      "metadata": {
        "colab": {
          "base_uri": "https://localhost:8080/",
          "height": 35
        },
        "id": "lq_tlp1XOsRb",
        "outputId": "411b8139-373f-4422-941a-c26b03c13991"
      },
      "source": [
        "asjson = json.dumps(result)\n",
        "asjson"
      ],
      "execution_count": 9,
      "outputs": [
        {
          "output_type": "execute_result",
          "data": {
            "application/vnd.google.colaboratory.intrinsic+json": {
              "type": "string"
            },
            "text/plain": [
              "'{\"employees\": [{\"name\": \"Shyam\", \"email\": \"shyamjaiswal@gmail.com\"}, {\"name\": \"Bob\", \"email\": \"bob32@gmail.com\"}, {\"name\": \"Jai\", \"email\": \"jai87@gmail.com\"}]}'"
            ]
          },
          "metadata": {
            "tags": []
          },
          "execution_count": 9
        }
      ]
    },
    {
      "cell_type": "code",
      "metadata": {
        "id": "IghRHbjXRZcw"
      },
      "source": [
        "import pandas as pd\n"
      ],
      "execution_count": 12,
      "outputs": []
    },
    {
      "cell_type": "code",
      "metadata": {
        "colab": {
          "base_uri": "https://localhost:8080/",
          "height": 138
        },
        "id": "BSOL8VSsmtij",
        "outputId": "faa86b65-f533-45f2-d9eb-fcf7e5cda616"
      },
      "source": [
        "sibilings  = pd.DataFrame(result[\"employees\"])\n",
        "sibilings"
      ],
      "execution_count": 15,
      "outputs": [
        {
          "output_type": "execute_result",
          "data": {
            "text/html": [
              "<div>\n",
              "<style scoped>\n",
              "    .dataframe tbody tr th:only-of-type {\n",
              "        vertical-align: middle;\n",
              "    }\n",
              "\n",
              "    .dataframe tbody tr th {\n",
              "        vertical-align: top;\n",
              "    }\n",
              "\n",
              "    .dataframe thead th {\n",
              "        text-align: right;\n",
              "    }\n",
              "</style>\n",
              "<table border=\"1\" class=\"dataframe\">\n",
              "  <thead>\n",
              "    <tr style=\"text-align: right;\">\n",
              "      <th></th>\n",
              "      <th>name</th>\n",
              "      <th>email</th>\n",
              "    </tr>\n",
              "  </thead>\n",
              "  <tbody>\n",
              "    <tr>\n",
              "      <th>0</th>\n",
              "      <td>Shyam</td>\n",
              "      <td>shyamjaiswal@gmail.com</td>\n",
              "    </tr>\n",
              "    <tr>\n",
              "      <th>1</th>\n",
              "      <td>Bob</td>\n",
              "      <td>bob32@gmail.com</td>\n",
              "    </tr>\n",
              "    <tr>\n",
              "      <th>2</th>\n",
              "      <td>Jai</td>\n",
              "      <td>jai87@gmail.com</td>\n",
              "    </tr>\n",
              "  </tbody>\n",
              "</table>\n",
              "</div>"
            ],
            "text/plain": [
              "    name                   email\n",
              "0  Shyam  shyamjaiswal@gmail.com\n",
              "1    Bob         bob32@gmail.com\n",
              "2    Jai         jai87@gmail.com"
            ]
          },
          "metadata": {
            "tags": []
          },
          "execution_count": 15
        }
      ]
    },
    {
      "cell_type": "code",
      "metadata": {
        "colab": {
          "base_uri": "https://localhost:8080/",
          "height": 138
        },
        "id": "Ou_-cVPMx_p5",
        "outputId": "8dbbb957-b519-4ace-c0b7-16ce0d8c7985"
      },
      "source": [
        "import pandas as pd\n",
        "data = pd.read_json(\"example.json\")\n",
        "data"
      ],
      "execution_count": 19,
      "outputs": [
        {
          "output_type": "execute_result",
          "data": {
            "text/html": [
              "<div>\n",
              "<style scoped>\n",
              "    .dataframe tbody tr th:only-of-type {\n",
              "        vertical-align: middle;\n",
              "    }\n",
              "\n",
              "    .dataframe tbody tr th {\n",
              "        vertical-align: top;\n",
              "    }\n",
              "\n",
              "    .dataframe thead th {\n",
              "        text-align: right;\n",
              "    }\n",
              "</style>\n",
              "<table border=\"1\" class=\"dataframe\">\n",
              "  <thead>\n",
              "    <tr style=\"text-align: right;\">\n",
              "      <th></th>\n",
              "      <th>a</th>\n",
              "      <th>b</th>\n",
              "      <th>c</th>\n",
              "    </tr>\n",
              "  </thead>\n",
              "  <tbody>\n",
              "    <tr>\n",
              "      <th>0</th>\n",
              "      <td>1</td>\n",
              "      <td>2</td>\n",
              "      <td>3</td>\n",
              "    </tr>\n",
              "    <tr>\n",
              "      <th>1</th>\n",
              "      <td>4</td>\n",
              "      <td>5</td>\n",
              "      <td>6</td>\n",
              "    </tr>\n",
              "    <tr>\n",
              "      <th>2</th>\n",
              "      <td>7</td>\n",
              "      <td>8</td>\n",
              "      <td>9</td>\n",
              "    </tr>\n",
              "  </tbody>\n",
              "</table>\n",
              "</div>"
            ],
            "text/plain": [
              "   a  b  c\n",
              "0  1  2  3\n",
              "1  4  5  6\n",
              "2  7  8  9"
            ]
          },
          "metadata": {
            "tags": []
          },
          "execution_count": 19
        }
      ]
    },
    {
      "cell_type": "code",
      "metadata": {
        "colab": {
          "base_uri": "https://localhost:8080/"
        },
        "id": "NFow1jNh0o1W",
        "outputId": "26cef871-9165-465d-b3b5-6ef6354e1ccf"
      },
      "source": [
        "print(data.to_json())"
      ],
      "execution_count": 22,
      "outputs": [
        {
          "output_type": "stream",
          "text": [
            "{\"a\":{\"0\":1,\"1\":4,\"2\":7},\"b\":{\"0\":2,\"1\":5,\"2\":8},\"c\":{\"0\":3,\"1\":6,\"2\":9}}\n"
          ],
          "name": "stdout"
        }
      ]
    },
    {
      "cell_type": "code",
      "metadata": {
        "colab": {
          "base_uri": "https://localhost:8080/"
        },
        "id": "2XPTIs2t0y7-",
        "outputId": "4ea746dc-3a93-447d-83fd-f6769afffc2a"
      },
      "source": [
        "print(data.to_json(orient='records'))"
      ],
      "execution_count": 23,
      "outputs": [
        {
          "output_type": "stream",
          "text": [
            "[{\"a\":1,\"b\":2,\"c\":3},{\"a\":4,\"b\":5,\"c\":6},{\"a\":7,\"b\":8,\"c\":9}]\n"
          ],
          "name": "stdout"
        }
      ]
    },
    {
      "cell_type": "code",
      "metadata": {
        "colab": {
          "base_uri": "https://localhost:8080/"
        },
        "id": "pd7Enz2i1FDs",
        "outputId": "e51673a3-2c2f-4385-fe8e-a984ad17a589"
      },
      "source": [
        "htmldata = pd.read_html(\"fdic_failed_bank_list.html\")\n",
        "len(htmldata)"
      ],
      "execution_count": 25,
      "outputs": [
        {
          "output_type": "execute_result",
          "data": {
            "text/plain": [
              "1"
            ]
          },
          "metadata": {
            "tags": []
          },
          "execution_count": 25
        }
      ]
    },
    {
      "cell_type": "code",
      "metadata": {
        "colab": {
          "base_uri": "https://localhost:8080/",
          "height": 571
        },
        "id": "RclbbFdk1w8m",
        "outputId": "ae94bc7f-39c2-47cf-a7da-aaa6dce00f2f"
      },
      "source": [
        "htmldata[0]"
      ],
      "execution_count": 26,
      "outputs": [
        {
          "output_type": "execute_result",
          "data": {
            "text/html": [
              "<div>\n",
              "<style scoped>\n",
              "    .dataframe tbody tr th:only-of-type {\n",
              "        vertical-align: middle;\n",
              "    }\n",
              "\n",
              "    .dataframe tbody tr th {\n",
              "        vertical-align: top;\n",
              "    }\n",
              "\n",
              "    .dataframe thead th {\n",
              "        text-align: right;\n",
              "    }\n",
              "</style>\n",
              "<table border=\"1\" class=\"dataframe\">\n",
              "  <thead>\n",
              "    <tr style=\"text-align: right;\">\n",
              "      <th></th>\n",
              "      <th>Bank Name</th>\n",
              "      <th>City</th>\n",
              "      <th>ST</th>\n",
              "      <th>CERT</th>\n",
              "      <th>Acquiring Institution</th>\n",
              "      <th>Closing Date</th>\n",
              "      <th>Updated Date</th>\n",
              "    </tr>\n",
              "  </thead>\n",
              "  <tbody>\n",
              "    <tr>\n",
              "      <th>0</th>\n",
              "      <td>Allied Bank</td>\n",
              "      <td>Mulberry</td>\n",
              "      <td>AR</td>\n",
              "      <td>91</td>\n",
              "      <td>Today's Bank</td>\n",
              "      <td>September 23, 2016</td>\n",
              "      <td>November 17, 2016</td>\n",
              "    </tr>\n",
              "    <tr>\n",
              "      <th>1</th>\n",
              "      <td>The Woodbury Banking Company</td>\n",
              "      <td>Woodbury</td>\n",
              "      <td>GA</td>\n",
              "      <td>11297</td>\n",
              "      <td>United Bank</td>\n",
              "      <td>August 19, 2016</td>\n",
              "      <td>November 17, 2016</td>\n",
              "    </tr>\n",
              "    <tr>\n",
              "      <th>2</th>\n",
              "      <td>First CornerStone Bank</td>\n",
              "      <td>King of Prussia</td>\n",
              "      <td>PA</td>\n",
              "      <td>35312</td>\n",
              "      <td>First-Citizens Bank &amp; Trust Company</td>\n",
              "      <td>May 6, 2016</td>\n",
              "      <td>September 6, 2016</td>\n",
              "    </tr>\n",
              "    <tr>\n",
              "      <th>3</th>\n",
              "      <td>Trust Company Bank</td>\n",
              "      <td>Memphis</td>\n",
              "      <td>TN</td>\n",
              "      <td>9956</td>\n",
              "      <td>The Bank of Fayette County</td>\n",
              "      <td>April 29, 2016</td>\n",
              "      <td>September 6, 2016</td>\n",
              "    </tr>\n",
              "    <tr>\n",
              "      <th>4</th>\n",
              "      <td>North Milwaukee State Bank</td>\n",
              "      <td>Milwaukee</td>\n",
              "      <td>WI</td>\n",
              "      <td>20364</td>\n",
              "      <td>First-Citizens Bank &amp; Trust Company</td>\n",
              "      <td>March 11, 2016</td>\n",
              "      <td>June 16, 2016</td>\n",
              "    </tr>\n",
              "    <tr>\n",
              "      <th>...</th>\n",
              "      <td>...</td>\n",
              "      <td>...</td>\n",
              "      <td>...</td>\n",
              "      <td>...</td>\n",
              "      <td>...</td>\n",
              "      <td>...</td>\n",
              "      <td>...</td>\n",
              "    </tr>\n",
              "    <tr>\n",
              "      <th>542</th>\n",
              "      <td>Superior Bank, FSB</td>\n",
              "      <td>Hinsdale</td>\n",
              "      <td>IL</td>\n",
              "      <td>32646</td>\n",
              "      <td>Superior Federal, FSB</td>\n",
              "      <td>July 27, 2001</td>\n",
              "      <td>August 19, 2014</td>\n",
              "    </tr>\n",
              "    <tr>\n",
              "      <th>543</th>\n",
              "      <td>Malta National Bank</td>\n",
              "      <td>Malta</td>\n",
              "      <td>OH</td>\n",
              "      <td>6629</td>\n",
              "      <td>North Valley Bank</td>\n",
              "      <td>May 3, 2001</td>\n",
              "      <td>November 18, 2002</td>\n",
              "    </tr>\n",
              "    <tr>\n",
              "      <th>544</th>\n",
              "      <td>First Alliance Bank &amp; Trust Co.</td>\n",
              "      <td>Manchester</td>\n",
              "      <td>NH</td>\n",
              "      <td>34264</td>\n",
              "      <td>Southern New Hampshire Bank &amp; Trust</td>\n",
              "      <td>February 2, 2001</td>\n",
              "      <td>February 18, 2003</td>\n",
              "    </tr>\n",
              "    <tr>\n",
              "      <th>545</th>\n",
              "      <td>National State Bank of Metropolis</td>\n",
              "      <td>Metropolis</td>\n",
              "      <td>IL</td>\n",
              "      <td>3815</td>\n",
              "      <td>Banterra Bank of Marion</td>\n",
              "      <td>December 14, 2000</td>\n",
              "      <td>March 17, 2005</td>\n",
              "    </tr>\n",
              "    <tr>\n",
              "      <th>546</th>\n",
              "      <td>Bank of Honolulu</td>\n",
              "      <td>Honolulu</td>\n",
              "      <td>HI</td>\n",
              "      <td>21029</td>\n",
              "      <td>Bank of the Orient</td>\n",
              "      <td>October 13, 2000</td>\n",
              "      <td>March 17, 2005</td>\n",
              "    </tr>\n",
              "  </tbody>\n",
              "</table>\n",
              "<p>547 rows × 7 columns</p>\n",
              "</div>"
            ],
            "text/plain": [
              "                             Bank Name  ...       Updated Date\n",
              "0                          Allied Bank  ...  November 17, 2016\n",
              "1         The Woodbury Banking Company  ...  November 17, 2016\n",
              "2               First CornerStone Bank  ...  September 6, 2016\n",
              "3                   Trust Company Bank  ...  September 6, 2016\n",
              "4           North Milwaukee State Bank  ...      June 16, 2016\n",
              "..                                 ...  ...                ...\n",
              "542                 Superior Bank, FSB  ...    August 19, 2014\n",
              "543                Malta National Bank  ...  November 18, 2002\n",
              "544    First Alliance Bank & Trust Co.  ...  February 18, 2003\n",
              "545  National State Bank of Metropolis  ...     March 17, 2005\n",
              "546                   Bank of Honolulu  ...     March 17, 2005\n",
              "\n",
              "[547 rows x 7 columns]"
            ]
          },
          "metadata": {
            "tags": []
          },
          "execution_count": 26
        }
      ]
    },
    {
      "cell_type": "code",
      "metadata": {
        "id": "G3gFI-yO10Nc"
      },
      "source": [
        ""
      ],
      "execution_count": null,
      "outputs": []
    },
    {
      "cell_type": "markdown",
      "metadata": {
        "id": "Hf7V_Yvw4Z7s"
      },
      "source": [
        "Binary Data Format\n"
      ]
    },
    {
      "cell_type": "code",
      "metadata": {
        "colab": {
          "base_uri": "https://localhost:8080/",
          "height": 138
        },
        "id": "dZAJnDN04clU",
        "outputId": "b75b0f6c-7102-4a91-c9f1-486eaf7dc646"
      },
      "source": [
        "frame = pd.read_csv(\"ex1.csv\")\n",
        "frame"
      ],
      "execution_count": 28,
      "outputs": [
        {
          "output_type": "execute_result",
          "data": {
            "text/html": [
              "<div>\n",
              "<style scoped>\n",
              "    .dataframe tbody tr th:only-of-type {\n",
              "        vertical-align: middle;\n",
              "    }\n",
              "\n",
              "    .dataframe tbody tr th {\n",
              "        vertical-align: top;\n",
              "    }\n",
              "\n",
              "    .dataframe thead th {\n",
              "        text-align: right;\n",
              "    }\n",
              "</style>\n",
              "<table border=\"1\" class=\"dataframe\">\n",
              "  <thead>\n",
              "    <tr style=\"text-align: right;\">\n",
              "      <th></th>\n",
              "      <th>a</th>\n",
              "      <th>b</th>\n",
              "      <th>c</th>\n",
              "      <th>d</th>\n",
              "      <th>message</th>\n",
              "    </tr>\n",
              "  </thead>\n",
              "  <tbody>\n",
              "    <tr>\n",
              "      <th>0</th>\n",
              "      <td>1</td>\n",
              "      <td>2</td>\n",
              "      <td>3</td>\n",
              "      <td>4</td>\n",
              "      <td>hello</td>\n",
              "    </tr>\n",
              "    <tr>\n",
              "      <th>1</th>\n",
              "      <td>5</td>\n",
              "      <td>6</td>\n",
              "      <td>7</td>\n",
              "      <td>8</td>\n",
              "      <td>world</td>\n",
              "    </tr>\n",
              "    <tr>\n",
              "      <th>2</th>\n",
              "      <td>9</td>\n",
              "      <td>10</td>\n",
              "      <td>11</td>\n",
              "      <td>12</td>\n",
              "      <td>foo</td>\n",
              "    </tr>\n",
              "  </tbody>\n",
              "</table>\n",
              "</div>"
            ],
            "text/plain": [
              "   a   b   c   d message\n",
              "0  1   2   3   4   hello\n",
              "1  5   6   7   8   world\n",
              "2  9  10  11  12     foo"
            ]
          },
          "metadata": {
            "tags": []
          },
          "execution_count": 28
        }
      ]
    },
    {
      "cell_type": "code",
      "metadata": {
        "id": "NVfZOvoZ4oNP"
      },
      "source": [
        "frame.to_pickle(\"Pickledata\")"
      ],
      "execution_count": 29,
      "outputs": []
    },
    {
      "cell_type": "code",
      "metadata": {
        "id": "h0MoLAKj4wxZ"
      },
      "source": [
        "picdata = pd.read_pickle(\"Pickledata\")"
      ],
      "execution_count": 30,
      "outputs": []
    },
    {
      "cell_type": "code",
      "metadata": {
        "colab": {
          "base_uri": "https://localhost:8080/",
          "height": 138
        },
        "id": "GSyEIkCM5Aw3",
        "outputId": "839e7ee8-207c-41d0-dfe5-a2b3dadb733a"
      },
      "source": [
        "picdata"
      ],
      "execution_count": 31,
      "outputs": [
        {
          "output_type": "execute_result",
          "data": {
            "text/html": [
              "<div>\n",
              "<style scoped>\n",
              "    .dataframe tbody tr th:only-of-type {\n",
              "        vertical-align: middle;\n",
              "    }\n",
              "\n",
              "    .dataframe tbody tr th {\n",
              "        vertical-align: top;\n",
              "    }\n",
              "\n",
              "    .dataframe thead th {\n",
              "        text-align: right;\n",
              "    }\n",
              "</style>\n",
              "<table border=\"1\" class=\"dataframe\">\n",
              "  <thead>\n",
              "    <tr style=\"text-align: right;\">\n",
              "      <th></th>\n",
              "      <th>a</th>\n",
              "      <th>b</th>\n",
              "      <th>c</th>\n",
              "      <th>d</th>\n",
              "      <th>message</th>\n",
              "    </tr>\n",
              "  </thead>\n",
              "  <tbody>\n",
              "    <tr>\n",
              "      <th>0</th>\n",
              "      <td>1</td>\n",
              "      <td>2</td>\n",
              "      <td>3</td>\n",
              "      <td>4</td>\n",
              "      <td>hello</td>\n",
              "    </tr>\n",
              "    <tr>\n",
              "      <th>1</th>\n",
              "      <td>5</td>\n",
              "      <td>6</td>\n",
              "      <td>7</td>\n",
              "      <td>8</td>\n",
              "      <td>world</td>\n",
              "    </tr>\n",
              "    <tr>\n",
              "      <th>2</th>\n",
              "      <td>9</td>\n",
              "      <td>10</td>\n",
              "      <td>11</td>\n",
              "      <td>12</td>\n",
              "      <td>foo</td>\n",
              "    </tr>\n",
              "  </tbody>\n",
              "</table>\n",
              "</div>"
            ],
            "text/plain": [
              "   a   b   c   d message\n",
              "0  1   2   3   4   hello\n",
              "1  5   6   7   8   world\n",
              "2  9  10  11  12     foo"
            ]
          },
          "metadata": {
            "tags": []
          },
          "execution_count": 31
        }
      ]
    },
    {
      "cell_type": "markdown",
      "metadata": {
        "id": "dBEry2CA5K3C"
      },
      "source": [
        "SERDE operation\n",
        "\n",
        "1. Obj(i.e frame) ------> ByteCode(i.e pickel data) is called Serialization/Write\n",
        "\n",
        "2. ByteCode-------->Obj is called  DeSerialization/read"
      ]
    },
    {
      "cell_type": "markdown",
      "metadata": {
        "id": "iQ7Umbwo7cZK"
      },
      "source": [
        ""
      ]
    },
    {
      "cell_type": "markdown",
      "metadata": {
        "id": "xauOJOBQ7d5b"
      },
      "source": [
        ".h5 file format"
      ]
    },
    {
      "cell_type": "markdown",
      "metadata": {
        "id": "pUgzOgHW_bQ3"
      },
      "source": [
        "WEB APIs"
      ]
    },
    {
      "cell_type": "code",
      "metadata": {
        "id": "BbDz6JXh_csM"
      },
      "source": [
        "import requests"
      ],
      "execution_count": 33,
      "outputs": []
    },
    {
      "cell_type": "code",
      "metadata": {
        "colab": {
          "base_uri": "https://localhost:8080/"
        },
        "id": "4ogY7Iop_ets",
        "outputId": "4a507b54-1388-4945-95c9-f4b96cc7963e"
      },
      "source": [
        "url = \"https://api.github.com/repos/pandas-dev/pandas/issues\"\n",
        "resp = requests.get(url)\n",
        "resp"
      ],
      "execution_count": 40,
      "outputs": [
        {
          "output_type": "execute_result",
          "data": {
            "text/plain": [
              "<Response [200]>"
            ]
          },
          "metadata": {
            "tags": []
          },
          "execution_count": 40
        }
      ]
    },
    {
      "cell_type": "code",
      "metadata": {
        "colab": {
          "base_uri": "https://localhost:8080/"
        },
        "id": "hAv3t_aM_xcr",
        "outputId": "0e7655b7-5c5a-4a93-ba0d-3f526e4ccf1f"
      },
      "source": [
        "type(resp)"
      ],
      "execution_count": 41,
      "outputs": [
        {
          "output_type": "execute_result",
          "data": {
            "text/plain": [
              "requests.models.Response"
            ]
          },
          "metadata": {
            "tags": []
          },
          "execution_count": 41
        }
      ]
    },
    {
      "cell_type": "code",
      "metadata": {
        "colab": {
          "base_uri": "https://localhost:8080/",
          "height": 35
        },
        "id": "B8ZZeOvPAs1a",
        "outputId": "633e75fc-3cc2-46b1-bbfa-6faed72e6dd9"
      },
      "source": [
        "data= resp.json()\n",
        "data[0][\"comments_url\"]"
      ],
      "execution_count": 44,
      "outputs": [
        {
          "output_type": "execute_result",
          "data": {
            "application/vnd.google.colaboratory.intrinsic+json": {
              "type": "string"
            },
            "text/plain": [
              "'https://api.github.com/repos/pandas-dev/pandas/issues/42534/comments'"
            ]
          },
          "metadata": {
            "tags": []
          },
          "execution_count": 44
        }
      ]
    },
    {
      "cell_type": "code",
      "metadata": {
        "colab": {
          "base_uri": "https://localhost:8080/",
          "height": 955
        },
        "id": "wo3amwFYAwDm",
        "outputId": "015358ad-93f3-403d-8d5b-4d240cfc12a9"
      },
      "source": [
        "dataframes = pd.DataFrame(data,columns=[\"number\", \"title\", \"labels\"])\n",
        "\n",
        "dataframes"
      ],
      "execution_count": 46,
      "outputs": [
        {
          "output_type": "execute_result",
          "data": {
            "text/html": [
              "<div>\n",
              "<style scoped>\n",
              "    .dataframe tbody tr th:only-of-type {\n",
              "        vertical-align: middle;\n",
              "    }\n",
              "\n",
              "    .dataframe tbody tr th {\n",
              "        vertical-align: top;\n",
              "    }\n",
              "\n",
              "    .dataframe thead th {\n",
              "        text-align: right;\n",
              "    }\n",
              "</style>\n",
              "<table border=\"1\" class=\"dataframe\">\n",
              "  <thead>\n",
              "    <tr style=\"text-align: right;\">\n",
              "      <th></th>\n",
              "      <th>number</th>\n",
              "      <th>title</th>\n",
              "      <th>labels</th>\n",
              "    </tr>\n",
              "  </thead>\n",
              "  <tbody>\n",
              "    <tr>\n",
              "      <th>0</th>\n",
              "      <td>42534</td>\n",
              "      <td>TYP: Series.name is Hashable - should it be str?</td>\n",
              "      <td>[{'id': 76811, 'node_id': 'MDU6TGFiZWw3NjgxMQ=...</td>\n",
              "    </tr>\n",
              "    <tr>\n",
              "      <th>1</th>\n",
              "      <td>42533</td>\n",
              "      <td>ENH: Enhance printing options for stylized Dat...</td>\n",
              "      <td>[{'id': 76812, 'node_id': 'MDU6TGFiZWw3NjgxMg=...</td>\n",
              "    </tr>\n",
              "    <tr>\n",
              "      <th>2</th>\n",
              "      <td>42532</td>\n",
              "      <td>MatplotlibDeprecationWarning for ax.is_first_c...</td>\n",
              "      <td>[{'id': 307649777, 'node_id': 'MDU6TGFiZWwzMDc...</td>\n",
              "    </tr>\n",
              "    <tr>\n",
              "      <th>3</th>\n",
              "      <td>42530</td>\n",
              "      <td>BUG: `KeyError` when assigning to Series value...</td>\n",
              "      <td>[{'id': 76811, 'node_id': 'MDU6TGFiZWw3NjgxMQ=...</td>\n",
              "    </tr>\n",
              "    <tr>\n",
              "      <th>4</th>\n",
              "      <td>42529</td>\n",
              "      <td>DOC: add height param added to user_guide</td>\n",
              "      <td>[]</td>\n",
              "    </tr>\n",
              "    <tr>\n",
              "      <th>5</th>\n",
              "      <td>42528</td>\n",
              "      <td>TST: Test reindex w/ multiindex df (GH21247)</td>\n",
              "      <td>[]</td>\n",
              "    </tr>\n",
              "    <tr>\n",
              "      <th>6</th>\n",
              "      <td>42522</td>\n",
              "      <td>BLD: Bump ManyLinux</td>\n",
              "      <td>[{'id': 129350, 'node_id': 'MDU6TGFiZWwxMjkzNT...</td>\n",
              "    </tr>\n",
              "    <tr>\n",
              "      <th>7</th>\n",
              "      <td>42520</td>\n",
              "      <td>DOC: Add user_guide examples and docstring exa...</td>\n",
              "      <td>[{'id': 134699, 'node_id': 'MDU6TGFiZWwxMzQ2OT...</td>\n",
              "    </tr>\n",
              "    <tr>\n",
              "      <th>8</th>\n",
              "      <td>42519</td>\n",
              "      <td>BUG: Fix multi-index colname references in rea...</td>\n",
              "      <td>[{'id': 76811, 'node_id': 'MDU6TGFiZWw3NjgxMQ=...</td>\n",
              "    </tr>\n",
              "    <tr>\n",
              "      <th>9</th>\n",
              "      <td>42518</td>\n",
              "      <td>WIP: try to debug segfault related issue</td>\n",
              "      <td>[]</td>\n",
              "    </tr>\n",
              "    <tr>\n",
              "      <th>10</th>\n",
              "      <td>42514</td>\n",
              "      <td>QST: is both an index level and a column label...</td>\n",
              "      <td>[{'id': 2365504893, 'node_id': 'MDU6TGFiZWwyMz...</td>\n",
              "    </tr>\n",
              "    <tr>\n",
              "      <th>11</th>\n",
              "      <td>42512</td>\n",
              "      <td>BUG: ArrayManager changes Series.to_frame() fr...</td>\n",
              "      <td>[{'id': 3165546917, 'node_id': 'MDU6TGFiZWwzMT...</td>\n",
              "    </tr>\n",
              "    <tr>\n",
              "      <th>12</th>\n",
              "      <td>42509</td>\n",
              "      <td>ENH: PyPy Support</td>\n",
              "      <td>[{'id': 129350, 'node_id': 'MDU6TGFiZWwxMjkzNT...</td>\n",
              "    </tr>\n",
              "    <tr>\n",
              "      <th>13</th>\n",
              "      <td>42508</td>\n",
              "      <td>BUG: Read excel bug dtype</td>\n",
              "      <td>[{'id': 76811, 'node_id': 'MDU6TGFiZWw3NjgxMQ=...</td>\n",
              "    </tr>\n",
              "    <tr>\n",
              "      <th>14</th>\n",
              "      <td>42506</td>\n",
              "      <td>BUG:</td>\n",
              "      <td>[{'id': 76811, 'node_id': 'MDU6TGFiZWw3NjgxMQ=...</td>\n",
              "    </tr>\n",
              "    <tr>\n",
              "      <th>15</th>\n",
              "      <td>42505</td>\n",
              "      <td>BUG: Regression - AmbiguousTimeError creating ...</td>\n",
              "      <td>[{'id': 1465286368, 'node_id': 'MDU6TGFiZWwxND...</td>\n",
              "    </tr>\n",
              "    <tr>\n",
              "      <th>16</th>\n",
              "      <td>42503</td>\n",
              "      <td>ENH - Improved error message for interpolating...</td>\n",
              "      <td>[]</td>\n",
              "    </tr>\n",
              "    <tr>\n",
              "      <th>17</th>\n",
              "      <td>42501</td>\n",
              "      <td>BUG: extraneous copy of extension arrays in v1...</td>\n",
              "      <td>[{'id': 2085877452, 'node_id': 'MDU6TGFiZWwyMD...</td>\n",
              "    </tr>\n",
              "    <tr>\n",
              "      <th>18</th>\n",
              "      <td>42499</td>\n",
              "      <td>ENH: Pandas ewm with fixed window / offset</td>\n",
              "      <td>[{'id': 76812, 'node_id': 'MDU6TGFiZWw3NjgxMg=...</td>\n",
              "    </tr>\n",
              "    <tr>\n",
              "      <th>19</th>\n",
              "      <td>42497</td>\n",
              "      <td>BUG: Unable to multi column \"complex\" dates (f...</td>\n",
              "      <td>[{'id': 76811, 'node_id': 'MDU6TGFiZWw3NjgxMQ=...</td>\n",
              "    </tr>\n",
              "    <tr>\n",
              "      <th>20</th>\n",
              "      <td>42495</td>\n",
              "      <td>Omerdan03 bug pd.series.rename #42481</td>\n",
              "      <td>[{'id': 76811, 'node_id': 'MDU6TGFiZWw3NjgxMQ=...</td>\n",
              "    </tr>\n",
              "    <tr>\n",
              "      <th>21</th>\n",
              "      <td>42494</td>\n",
              "      <td>Improved docstring for `to_datetime`</td>\n",
              "      <td>[{'id': 134699, 'node_id': 'MDU6TGFiZWwxMzQ2OT...</td>\n",
              "    </tr>\n",
              "    <tr>\n",
              "      <th>22</th>\n",
              "      <td>42492</td>\n",
              "      <td>DOC: Add updated docstring for examples of `by...</td>\n",
              "      <td>[{'id': 134699, 'node_id': 'MDU6TGFiZWwxMzQ2OT...</td>\n",
              "    </tr>\n",
              "    <tr>\n",
              "      <th>23</th>\n",
              "      <td>42485</td>\n",
              "      <td>REF: implement Index._get_indexer_strict</td>\n",
              "      <td>[{'id': 2822098, 'node_id': 'MDU6TGFiZWwyODIyM...</td>\n",
              "    </tr>\n",
              "    <tr>\n",
              "      <th>24</th>\n",
              "      <td>42484</td>\n",
              "      <td>Improve boolean indexing docs</td>\n",
              "      <td>[{'id': 134699, 'node_id': 'MDU6TGFiZWwxMzQ2OT...</td>\n",
              "    </tr>\n",
              "    <tr>\n",
              "      <th>25</th>\n",
              "      <td>42482</td>\n",
              "      <td>BUG: groupby with sort=False not respected for...</td>\n",
              "      <td>[{'id': 76811, 'node_id': 'MDU6TGFiZWw3NjgxMQ=...</td>\n",
              "    </tr>\n",
              "    <tr>\n",
              "      <th>26</th>\n",
              "      <td>42481</td>\n",
              "      <td>BUG: pd.Series.rename</td>\n",
              "      <td>[{'id': 76811, 'node_id': 'MDU6TGFiZWw3NjgxMQ=...</td>\n",
              "    </tr>\n",
              "    <tr>\n",
              "      <th>27</th>\n",
              "      <td>42479</td>\n",
              "      <td>ENH: Too much faf getting csv_reader to work.</td>\n",
              "      <td>[{'id': 76812, 'node_id': 'MDU6TGFiZWw3NjgxMg=...</td>\n",
              "    </tr>\n",
              "    <tr>\n",
              "      <th>28</th>\n",
              "      <td>42477</td>\n",
              "      <td>1.3.0 PerformanceWarning: DataFrame is highly ...</td>\n",
              "      <td>[{'id': 1049312478, 'node_id': 'MDU6TGFiZWwxMD...</td>\n",
              "    </tr>\n",
              "    <tr>\n",
              "      <th>29</th>\n",
              "      <td>42476</td>\n",
              "      <td>BUG: string slicing on MultiIndex DatetimeInde...</td>\n",
              "      <td>[{'id': 76811, 'node_id': 'MDU6TGFiZWw3NjgxMQ=...</td>\n",
              "    </tr>\n",
              "  </tbody>\n",
              "</table>\n",
              "</div>"
            ],
            "text/plain": [
              "    number  ...                                             labels\n",
              "0    42534  ...  [{'id': 76811, 'node_id': 'MDU6TGFiZWw3NjgxMQ=...\n",
              "1    42533  ...  [{'id': 76812, 'node_id': 'MDU6TGFiZWw3NjgxMg=...\n",
              "2    42532  ...  [{'id': 307649777, 'node_id': 'MDU6TGFiZWwzMDc...\n",
              "3    42530  ...  [{'id': 76811, 'node_id': 'MDU6TGFiZWw3NjgxMQ=...\n",
              "4    42529  ...                                                 []\n",
              "5    42528  ...                                                 []\n",
              "6    42522  ...  [{'id': 129350, 'node_id': 'MDU6TGFiZWwxMjkzNT...\n",
              "7    42520  ...  [{'id': 134699, 'node_id': 'MDU6TGFiZWwxMzQ2OT...\n",
              "8    42519  ...  [{'id': 76811, 'node_id': 'MDU6TGFiZWw3NjgxMQ=...\n",
              "9    42518  ...                                                 []\n",
              "10   42514  ...  [{'id': 2365504893, 'node_id': 'MDU6TGFiZWwyMz...\n",
              "11   42512  ...  [{'id': 3165546917, 'node_id': 'MDU6TGFiZWwzMT...\n",
              "12   42509  ...  [{'id': 129350, 'node_id': 'MDU6TGFiZWwxMjkzNT...\n",
              "13   42508  ...  [{'id': 76811, 'node_id': 'MDU6TGFiZWw3NjgxMQ=...\n",
              "14   42506  ...  [{'id': 76811, 'node_id': 'MDU6TGFiZWw3NjgxMQ=...\n",
              "15   42505  ...  [{'id': 1465286368, 'node_id': 'MDU6TGFiZWwxND...\n",
              "16   42503  ...                                                 []\n",
              "17   42501  ...  [{'id': 2085877452, 'node_id': 'MDU6TGFiZWwyMD...\n",
              "18   42499  ...  [{'id': 76812, 'node_id': 'MDU6TGFiZWw3NjgxMg=...\n",
              "19   42497  ...  [{'id': 76811, 'node_id': 'MDU6TGFiZWw3NjgxMQ=...\n",
              "20   42495  ...  [{'id': 76811, 'node_id': 'MDU6TGFiZWw3NjgxMQ=...\n",
              "21   42494  ...  [{'id': 134699, 'node_id': 'MDU6TGFiZWwxMzQ2OT...\n",
              "22   42492  ...  [{'id': 134699, 'node_id': 'MDU6TGFiZWwxMzQ2OT...\n",
              "23   42485  ...  [{'id': 2822098, 'node_id': 'MDU6TGFiZWwyODIyM...\n",
              "24   42484  ...  [{'id': 134699, 'node_id': 'MDU6TGFiZWwxMzQ2OT...\n",
              "25   42482  ...  [{'id': 76811, 'node_id': 'MDU6TGFiZWw3NjgxMQ=...\n",
              "26   42481  ...  [{'id': 76811, 'node_id': 'MDU6TGFiZWw3NjgxMQ=...\n",
              "27   42479  ...  [{'id': 76812, 'node_id': 'MDU6TGFiZWw3NjgxMg=...\n",
              "28   42477  ...  [{'id': 1049312478, 'node_id': 'MDU6TGFiZWwxMD...\n",
              "29   42476  ...  [{'id': 76811, 'node_id': 'MDU6TGFiZWw3NjgxMQ=...\n",
              "\n",
              "[30 rows x 3 columns]"
            ]
          },
          "metadata": {
            "tags": []
          },
          "execution_count": 46
        }
      ]
    },
    {
      "cell_type": "code",
      "metadata": {
        "id": "PgsN7kRRD68A"
      },
      "source": [
        ""
      ],
      "execution_count": null,
      "outputs": []
    }
  ]
}